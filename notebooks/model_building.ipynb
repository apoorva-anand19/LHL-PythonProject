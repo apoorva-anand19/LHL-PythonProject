{
 "cells": [
  {
   "cell_type": "markdown",
   "metadata": {},
   "source": [
    "Build a regression model."
   ]
  },
  {
   "cell_type": "code",
   "execution_count": 50,
   "metadata": {},
   "outputs": [],
   "source": [
    "import numpy as np\n",
    "import pandas as pd\n",
    "import statsmodels.api as sm\n",
    "import seaborn as sns\n",
    "\n",
    "\n",
    "citybikes_df = pd.read_csv('citybikes_joined.csv')"
   ]
  },
  {
   "cell_type": "code",
   "execution_count": 51,
   "metadata": {},
   "outputs": [
    {
     "data": {
      "text/html": [
       "<div>\n",
       "<style scoped>\n",
       "    .dataframe tbody tr th:only-of-type {\n",
       "        vertical-align: middle;\n",
       "    }\n",
       "\n",
       "    .dataframe tbody tr th {\n",
       "        vertical-align: top;\n",
       "    }\n",
       "\n",
       "    .dataframe thead th {\n",
       "        text-align: right;\n",
       "    }\n",
       "</style>\n",
       "<table border=\"1\" class=\"dataframe\">\n",
       "  <thead>\n",
       "    <tr style=\"text-align: right;\">\n",
       "      <th></th>\n",
       "      <th>empty_slots</th>\n",
       "      <th>free_bikes</th>\n",
       "      <th>ebikes</th>\n",
       "      <th>noOf_normal_bikes</th>\n",
       "      <th>total_slots</th>\n",
       "      <th>rating_avg_bar</th>\n",
       "      <th>count_bar</th>\n",
       "      <th>rating_avg_rest</th>\n",
       "      <th>count_rest</th>\n",
       "    </tr>\n",
       "  </thead>\n",
       "  <tbody>\n",
       "    <tr>\n",
       "      <th>0</th>\n",
       "      <td>15</td>\n",
       "      <td>21</td>\n",
       "      <td>4</td>\n",
       "      <td>17</td>\n",
       "      <td>36</td>\n",
       "      <td>3.811111</td>\n",
       "      <td>9.0</td>\n",
       "      <td>3.909091</td>\n",
       "      <td>11.0</td>\n",
       "    </tr>\n",
       "    <tr>\n",
       "      <th>1</th>\n",
       "      <td>10</td>\n",
       "      <td>6</td>\n",
       "      <td>1</td>\n",
       "      <td>5</td>\n",
       "      <td>16</td>\n",
       "      <td>3.983333</td>\n",
       "      <td>12.0</td>\n",
       "      <td>4.112500</td>\n",
       "      <td>8.0</td>\n",
       "    </tr>\n",
       "    <tr>\n",
       "      <th>2</th>\n",
       "      <td>1</td>\n",
       "      <td>25</td>\n",
       "      <td>7</td>\n",
       "      <td>18</td>\n",
       "      <td>26</td>\n",
       "      <td>4.157143</td>\n",
       "      <td>14.0</td>\n",
       "      <td>4.233333</td>\n",
       "      <td>6.0</td>\n",
       "    </tr>\n",
       "    <tr>\n",
       "      <th>3</th>\n",
       "      <td>4</td>\n",
       "      <td>12</td>\n",
       "      <td>0</td>\n",
       "      <td>12</td>\n",
       "      <td>16</td>\n",
       "      <td>4.011111</td>\n",
       "      <td>9.0</td>\n",
       "      <td>3.718182</td>\n",
       "      <td>11.0</td>\n",
       "    </tr>\n",
       "    <tr>\n",
       "      <th>4</th>\n",
       "      <td>7</td>\n",
       "      <td>9</td>\n",
       "      <td>2</td>\n",
       "      <td>7</td>\n",
       "      <td>16</td>\n",
       "      <td>3.442857</td>\n",
       "      <td>7.0</td>\n",
       "      <td>3.853846</td>\n",
       "      <td>13.0</td>\n",
       "    </tr>\n",
       "    <tr>\n",
       "      <th>...</th>\n",
       "      <td>...</td>\n",
       "      <td>...</td>\n",
       "      <td>...</td>\n",
       "      <td>...</td>\n",
       "      <td>...</td>\n",
       "      <td>...</td>\n",
       "      <td>...</td>\n",
       "      <td>...</td>\n",
       "      <td>...</td>\n",
       "    </tr>\n",
       "    <tr>\n",
       "      <th>246</th>\n",
       "      <td>15</td>\n",
       "      <td>5</td>\n",
       "      <td>3</td>\n",
       "      <td>2</td>\n",
       "      <td>20</td>\n",
       "      <td>4.240000</td>\n",
       "      <td>10.0</td>\n",
       "      <td>4.030000</td>\n",
       "      <td>10.0</td>\n",
       "    </tr>\n",
       "    <tr>\n",
       "      <th>247</th>\n",
       "      <td>6</td>\n",
       "      <td>14</td>\n",
       "      <td>3</td>\n",
       "      <td>11</td>\n",
       "      <td>20</td>\n",
       "      <td>4.042857</td>\n",
       "      <td>14.0</td>\n",
       "      <td>4.133333</td>\n",
       "      <td>6.0</td>\n",
       "    </tr>\n",
       "    <tr>\n",
       "      <th>248</th>\n",
       "      <td>17</td>\n",
       "      <td>3</td>\n",
       "      <td>2</td>\n",
       "      <td>1</td>\n",
       "      <td>20</td>\n",
       "      <td>3.400000</td>\n",
       "      <td>4.0</td>\n",
       "      <td>2.500000</td>\n",
       "      <td>1.0</td>\n",
       "    </tr>\n",
       "    <tr>\n",
       "      <th>249</th>\n",
       "      <td>23</td>\n",
       "      <td>3</td>\n",
       "      <td>1</td>\n",
       "      <td>2</td>\n",
       "      <td>26</td>\n",
       "      <td>3.400000</td>\n",
       "      <td>4.0</td>\n",
       "      <td>2.500000</td>\n",
       "      <td>1.0</td>\n",
       "    </tr>\n",
       "    <tr>\n",
       "      <th>250</th>\n",
       "      <td>23</td>\n",
       "      <td>5</td>\n",
       "      <td>4</td>\n",
       "      <td>1</td>\n",
       "      <td>28</td>\n",
       "      <td>4.700000</td>\n",
       "      <td>1.0</td>\n",
       "      <td>0.000000</td>\n",
       "      <td>0.0</td>\n",
       "    </tr>\n",
       "  </tbody>\n",
       "</table>\n",
       "<p>251 rows × 9 columns</p>\n",
       "</div>"
      ],
      "text/plain": [
       "     empty_slots  free_bikes  ebikes  noOf_normal_bikes  total_slots  \\\n",
       "0             15          21       4                 17           36   \n",
       "1             10           6       1                  5           16   \n",
       "2              1          25       7                 18           26   \n",
       "3              4          12       0                 12           16   \n",
       "4              7           9       2                  7           16   \n",
       "..           ...         ...     ...                ...          ...   \n",
       "246           15           5       3                  2           20   \n",
       "247            6          14       3                 11           20   \n",
       "248           17           3       2                  1           20   \n",
       "249           23           3       1                  2           26   \n",
       "250           23           5       4                  1           28   \n",
       "\n",
       "     rating_avg_bar  count_bar  rating_avg_rest  count_rest  \n",
       "0          3.811111        9.0         3.909091        11.0  \n",
       "1          3.983333       12.0         4.112500         8.0  \n",
       "2          4.157143       14.0         4.233333         6.0  \n",
       "3          4.011111        9.0         3.718182        11.0  \n",
       "4          3.442857        7.0         3.853846        13.0  \n",
       "..              ...        ...              ...         ...  \n",
       "246        4.240000       10.0         4.030000        10.0  \n",
       "247        4.042857       14.0         4.133333         6.0  \n",
       "248        3.400000        4.0         2.500000         1.0  \n",
       "249        3.400000        4.0         2.500000         1.0  \n",
       "250        4.700000        1.0         0.000000         0.0  \n",
       "\n",
       "[251 rows x 9 columns]"
      ]
     },
     "execution_count": 51,
     "metadata": {},
     "output_type": "execute_result"
    }
   ],
   "source": [
    "#choosing features that migth have some effect on the model\n",
    "citybikes_model_df = citybikes_df[['empty_slots',\n",
    "                                   'free_bikes',\n",
    "                                   'ebikes',\n",
    "                                   'noOf_normal_bikes',\n",
    "                                   'total_slots',\n",
    "                                   'rating_avg_bar',\n",
    "                                   'count_bar',\n",
    "                                   'rating_avg_rest',\n",
    "                                   'count_rest']]\n",
    "#citybikes_model_df\n",
    "\n",
    "#found some null values and replaced them with 0\n",
    "citybikes_model_df = citybikes_model_df.fillna({column: 0 for column in citybikes_model_df.columns})\n",
    "citybikes_model_df\n"
   ]
  },
  {
   "cell_type": "code",
   "execution_count": 52,
   "metadata": {},
   "outputs": [
    {
     "name": "stderr",
     "output_type": "stream",
     "text": [
      "c:\\Users\\apoor\\anaconda3\\envs\\test_env\\lib\\site-packages\\seaborn\\matrix.py:260: FutureWarning: Format strings passed to MaskedConstant are ignored, but in future may error or produce different behavior\n",
      "  annotation = (\"{:\" + self.fmt + \"}\").format(val)\n"
     ]
    },
    {
     "data": {
      "text/plain": [
       "<Axes: >"
      ]
     },
     "execution_count": 52,
     "metadata": {},
     "output_type": "execute_result"
    },
    {
     "data": {
      "image/png": "[encoded data removed]",
      "text/plain": [
       "<Figure size 640x480 with 2 Axes>"
      ]
     },
     "metadata": {},
     "output_type": "display_data"
    }
   ],
   "source": [
    "sns.heatmap(citybikes_model_df.corr(),\n",
    "            annot=True, \n",
    "            mask=np.triu(np.ones_like(citybikes_model_df.corr(),dtype=bool)))"
   ]
  },
  {
   "cell_type": "markdown",
   "metadata": {},
   "source": [
    "- This heatmap shows the relation between all the features in the dataset. \n",
    "- There doesn't seem to be a strong co-relation between the features.\n",
    "- Going to drop free bikes and no.of normal bikes to see if the co-relations change"
   ]
  },
  {
   "cell_type": "code",
   "execution_count": 53,
   "metadata": {},
   "outputs": [
    {
     "name": "stdout",
     "output_type": "stream",
     "text": [
      "                            OLS Regression Results                            \n",
      "==============================================================================\n",
      "Dep. Variable:         rating_avg_bar   R-squared:                       0.006\n",
      "Model:                            OLS   Adj. R-squared:                  0.002\n",
      "Method:                 Least Squares   F-statistic:                     1.587\n",
      "Date:                Mon, 11 Mar 2024   Prob (F-statistic):              0.209\n",
      "Time:                        10:14:56   Log-Likelihood:                -275.14\n",
      "No. Observations:                 251   AIC:                             554.3\n",
      "Df Residuals:                     249   BIC:                             561.3\n",
      "Df Model:                           1                                         \n",
      "Covariance Type:            nonrobust                                         \n",
      "===============================================================================\n",
      "                  coef    std err          t      P>|t|      [0.025      0.975]\n",
      "-------------------------------------------------------------------------------\n",
      "const           4.0459      0.172     23.576      0.000       3.708       4.384\n",
      "total_slots    -0.0110      0.009     -1.260      0.209      -0.028       0.006\n",
      "==============================================================================\n",
      "Omnibus:                      262.954   Durbin-Watson:                   1.817\n",
      "Prob(Omnibus):                  0.000   Jarque-Bera (JB):             5580.073\n",
      "Skew:                          -4.562   Prob(JB):                         0.00\n",
      "Kurtosis:                      24.220   Cond. No.                         73.7\n",
      "==============================================================================\n",
      "\n",
      "Notes:\n",
      "[1] Standard Errors assume that the covariance matrix of the errors is correctly specified.\n"
     ]
    }
   ],
   "source": [
    "# a simple liner regression model for average restaurant rating and total bike slots\n",
    "x = citybikes_model_df['total_slots']\n",
    "y = citybikes_model_df['rating_avg_bar']\n",
    "x = sm.add_constant(x)\n",
    "model = sm.OLS(y,x)\n",
    "results = model.fit()\n",
    "\n",
    "print(results.summary())"
   ]
  },
  {
   "cell_type": "markdown",
   "metadata": {},
   "source": [
    "- The R-squared value is 0.009, which means that the average bar rating is only 0.09% dependent on the total bike slots of the station.\n",
    "- The P value is 0.141 which is much higher than 0.05 we fail to rehject the null hypothesis here.\n",
    "- The feature total_slots does not add much value to this dataset."
   ]
  },
  {
   "cell_type": "code",
   "execution_count": 54,
   "metadata": {},
   "outputs": [
    {
     "name": "stdout",
     "output_type": "stream",
     "text": [
      "                            OLS Regression Results                            \n",
      "==============================================================================\n",
      "Dep. Variable:        rating_avg_rest   R-squared:                       0.015\n",
      "Model:                            OLS   Adj. R-squared:                  0.011\n",
      "Method:                 Least Squares   F-statistic:                     3.780\n",
      "Date:                Mon, 11 Mar 2024   Prob (F-statistic):             0.0530\n",
      "Time:                        10:15:03   Log-Likelihood:                -98.528\n",
      "No. Observations:                 251   AIC:                             201.1\n",
      "Df Residuals:                     249   BIC:                             208.1\n",
      "Df Model:                           1                                         \n",
      "Covariance Type:            nonrobust                                         \n",
      "===============================================================================\n",
      "                  coef    std err          t      P>|t|      [0.025      0.975]\n",
      "-------------------------------------------------------------------------------\n",
      "const           4.0974      0.085     48.255      0.000       3.930       4.265\n",
      "total_slots    -0.0084      0.004     -1.944      0.053      -0.017       0.000\n",
      "==============================================================================\n",
      "Omnibus:                      342.778   Durbin-Watson:                   0.659\n",
      "Prob(Omnibus):                  0.000   Jarque-Bera (JB):            34124.409\n",
      "Skew:                          -6.203   Prob(JB):                         0.00\n",
      "Kurtosis:                      58.758   Cond. No.                         73.7\n",
      "==============================================================================\n",
      "\n",
      "Notes:\n",
      "[1] Standard Errors assume that the covariance matrix of the errors is correctly specified.\n"
     ]
    }
   ],
   "source": [
    "x = citybikes_model_df['total_slots']\n",
    "y = citybikes_model_df['rating_avg_rest']\n",
    "x = sm.add_constant(x)\n",
    "model = sm.OLS(y,x)\n",
    "results = model.fit()\n",
    "\n",
    "print(results.summary())"
   ]
  },
  {
   "cell_type": "markdown",
   "metadata": {},
   "source": [
    "- Here the R-squared id 0.015, 1.5%, which is albiet slightly higher than the previous variable.\n",
    "- The P value here is 0.054 which is so close to 0.05, that we cannot fully reject the null hypothesis.\n",
    "- This makes the model maybe slightly significant."
   ]
  },
  {
   "cell_type": "code",
   "execution_count": 55,
   "metadata": {},
   "outputs": [
    {
     "name": "stderr",
     "output_type": "stream",
     "text": [
      "c:\\Users\\apoor\\anaconda3\\envs\\test_env\\lib\\site-packages\\seaborn\\matrix.py:260: FutureWarning: Format strings passed to MaskedConstant are ignored, but in future may error or produce different behavior\n",
      "  annotation = (\"{:\" + self.fmt + \"}\").format(val)\n"
     ]
    },
    {
     "data": {
      "text/plain": [
       "<Axes: >"
      ]
     },
     "execution_count": 55,
     "metadata": {},
     "output_type": "execute_result"
    },
    {
     "data": {
      "image/png": "[encoded data removed]",
      "text/plain": [
       "<Figure size 640x480 with 2 Axes>"
      ]
     },
     "metadata": {},
     "output_type": "display_data"
    }
   ],
   "source": [
    "new_citybikes_df = citybikes_model_df.drop(['free_bikes', 'noOf_normal_bikes'], axis=1)\n",
    "\n",
    "sns.heatmap(new_citybikes_df.corr(),\n",
    "            annot=True, \n",
    "            mask=np.triu(np.ones_like(new_citybikes_df.corr(),dtype=bool)))"
   ]
  },
  {
   "cell_type": "code",
   "execution_count": 56,
   "metadata": {},
   "outputs": [
    {
     "name": "stdout",
     "output_type": "stream",
     "text": [
      "                            OLS Regression Results                            \n",
      "==============================================================================\n",
      "Dep. Variable:              count_bar   R-squared:                       0.030\n",
      "Model:                            OLS   Adj. R-squared:                  0.026\n",
      "Method:                 Least Squares   F-statistic:                     7.676\n",
      "Date:                Mon, 11 Mar 2024   Prob (F-statistic):            0.00602\n",
      "Time:                        10:15:12   Log-Likelihood:                -686.26\n",
      "No. Observations:                 251   AIC:                             1377.\n",
      "Df Residuals:                     249   BIC:                             1384.\n",
      "Df Model:                           1                                         \n",
      "Covariance Type:            nonrobust                                         \n",
      "==============================================================================\n",
      "                 coef    std err          t      P>|t|      [0.025      0.975]\n",
      "------------------------------------------------------------------------------\n",
      "const          9.6578      0.305     31.702      0.000       9.058      10.258\n",
      "ebikes         0.3002      0.108      2.771      0.006       0.087       0.514\n",
      "==============================================================================\n",
      "Omnibus:                       33.040   Durbin-Watson:                   1.385\n",
      "Prob(Omnibus):                  0.000   Jarque-Bera (JB):               42.406\n",
      "Skew:                          -0.908   Prob(JB):                     6.19e-10\n",
      "Kurtosis:                       3.871   Cond. No.                         3.83\n",
      "==============================================================================\n",
      "\n",
      "Notes:\n",
      "[1] Standard Errors assume that the covariance matrix of the errors is correctly specified.\n"
     ]
    }
   ],
   "source": [
    "x = new_citybikes_df['ebikes']\n",
    "y = new_citybikes_df['count_bar']\n",
    "x = sm.add_constant(x)\n",
    "model = sm.OLS(y,x)\n",
    "results = model.fit()\n",
    "\n",
    "print(results.summary())"
   ]
  },
  {
   "cell_type": "markdown",
   "metadata": {},
   "source": [
    "- The R-squared here is 0.030 which shows there's a 3% variance on the dependent variable\n",
    "- The P value is 0.006 which suggests a significant relationship between the two variables.\n",
    "- So we ca say that there may be significant relation between bike stations that have ebikes and bar around the station,\n",
    "    but the low R-square suggests maybe there isn't enough data to strongly back this hypothesis."
   ]
  },
  {
   "cell_type": "markdown",
   "metadata": {},
   "source": [
    "# Stretch"
   ]
  },
  {
   "cell_type": "markdown",
   "metadata": {},
   "source": [
    "How can you turn the regression model into a classification model?"
   ]
  },
  {
   "cell_type": "markdown",
   "metadata": {},
   "source": [
    "- The column which gives a true or false value for bikes available in at a station.\n",
    "    Making a new dataset with that and also turning the catergories to a Yes or No,\n",
    "    a model can made to ask to question, Are there more bikes available near\n",
    "    resturants or bar, which will give us an aswer of which is more visitied.\n"
   ]
  }
 ],
 "metadata": {
  "kernelspec": {
   "display_name": "Python 3",
   "language": "python",
   "name": "python3"
  },
  "language_info": {
   "codemirror_mode": {
    "name": "ipython",
    "version": 3
   },
   "file_extension": ".py",
   "mimetype": "text/x-python",
   "name": "python",
   "nbconvert_exporter": "python",
   "pygments_lexer": "ipython3",
   "version": "3.9.18"
  }
 },
 "nbformat": 4,
 "nbformat_minor": 4
}
